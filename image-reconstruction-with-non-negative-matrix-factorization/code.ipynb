{
 "cells": [
  {
   "cell_type": "markdown",
   "id": "YtwyzwC92Tm9",
   "metadata": {
    "id": "YtwyzwC92Tm9"
   },
   "source": [
    "**ReadMe:**\n",
    "\n",
    "\n",
    "The code can be directly run sequentially in thie notebook. Please put the data in the same root of the notebook, i.e. the data folders should be at 'data/ORL' and 'data/CroppedYaleB'. The running results are also saved in the zip file. Please command out the running cells and directly run the loading cells to read the results, as some of the cells have a very long running time."
   ]
  },
  {
   "cell_type": "code",
   "execution_count": null,
   "id": "a25d80a7",
   "metadata": {},
   "outputs": [],
   "source": [
    "import os\n",
    "import numpy as np\n",
    "from PIL import Image\n",
    "import matplotlib.pyplot as plt\n",
    "from collections import Counter\n",
    "import pandas as pd\n",
    "\n",
    "from sklearn.cluster import KMeans\n",
    "from sklearn.metrics import accuracy_score\n",
    "from sklearn.metrics import normalized_mutual_info_score"
   ]
  },
  {
   "cell_type": "markdown",
   "id": "b7548ce2",
   "metadata": {},
   "source": [
    "## 1. Load Dataset\n",
    "\n",
    "### 1.1 Data Folder"
   ]
  },
  {
   "cell_type": "code",
   "execution_count": null,
   "id": "2f7e9593",
   "metadata": {
    "id": "2f7e9593",
    "outputId": "81321d17-eb4e-4278-85e5-19298ff437e1"
   },
   "outputs": [
    {
     "name": "stderr",
     "output_type": "stream",
     "text": [
      "'ls' is not recognized as an internal or external command,\n",
      "operable program or batch file.\n"
     ]
    }
   ],
   "source": [
    "# The structure of data folder.\n",
    "!ls -l data"
   ]
  },
  {
   "cell_type": "markdown",
   "id": "bcdf2247",
   "metadata": {
    "id": "bcdf2247"
   },
   "source": [
    "\n",
    "\\# Tree structure of data folder. ├── CroppedAR ├── M-001-01.bmp ├──\n",
    "M-001-01.txt ├── M-001-02.bmp ├── M-001-02.txt ├── ... ├── CroppedYaleB\n",
    "│ ├── yaleB01 │ ├── yaleB02 │ ... │ ├── yaleB38 │ └── yaleB39 └── ORL\n",
    "├── s1 ├── s2 ├── s3 ├── ... ├── s40\n",
    "\n",
    "### 1.2 Load ORL Dataset and Extended YaleB Dataset.\n",
    "\n",
    "-   ORL dataset contains ten different images of each of 40 distinct\n",
    "    subjects. For some subjects, the images were taken at different\n",
    "    times, varying the lighting, facial expressions (open / closed eyes,\n",
    "    smiling / not smiling) and facial details (glasses / no glasses).\n",
    "    All the images were taken against a dark homogeneous background with\n",
    "    the subjects in an upright, frontal position (with tolerance for\n",
    "    some side movement). The size of each image is 92x112 pixels, with\n",
    "    256 grey levels per pixel. To further reduce the computation\n",
    "    complexity, you can resize all images to 30x37 pixels.\n",
    "\n",
    "-   Extended YaleB dataset contains 2414 images of 38 human subjects\n",
    "    under 9 poses and 64 illumination conditions. All images are\n",
    "    manually aligned, cropped, and then resized to 168x192 pixels. To\n",
    "    further reduce the computation complexity, you can resize all images\n",
    "    to 42x48 pixels."
   ]
  },
  {
   "cell_type": "code",
   "execution_count": null,
   "id": "09129620",
   "metadata": {
    "id": "09129620"
   },
   "outputs": [],
   "source": [
    "def load_data(root='data/CroppedYaleB', reduce=4, resize_shape = [30, 37]):\n",
    "    \"\"\" \n",
    "    Load ORL (or Extended YaleB) dataset to numpy array.\n",
    "    \n",
    "    Args:\n",
    "        root: path to dataset.\n",
    "        reduce: scale factor for zooming out images.\n",
    "        \n",
    "    \"\"\" \n",
    "    images, labels = [], []\n",
    "\n",
    "    for i, person in enumerate(sorted(os.listdir(root))):\n",
    "        \n",
    "        if not os.path.isdir(os.path.join(root, person)):\n",
    "            continue\n",
    "        \n",
    "        for fname in os.listdir(os.path.join(root, person)):    \n",
    "            \n",
    "            # Remove background images in Extended YaleB dataset.\n",
    "            if fname.endswith('Ambient.pgm'):\n",
    "                continue\n",
    "            \n",
    "            if not fname.endswith('.pgm'):\n",
    "                continue\n",
    "                \n",
    "            # load image.\n",
    "            img = Image.open(os.path.join(root, person, fname))\n",
    "            img = img.convert('L') # grey image.\n",
    "\n",
    "            # reduce computation complexity.\n",
    "            img = img.resize([s//reduce for s in img.size])\n",
    "\n",
    "            # TODO: preprocessing.\n",
    "            # Convert the image size to the desired size\n",
    "            img = img.resize(resize_shape)\n",
    "\n",
    "            # convert image to numpy array.\n",
    "            img = np.asarray(img).reshape((-1,1))\n",
    "\n",
    "            # collect data and label.\n",
    "            images.append(img)\n",
    "            labels.append(i)\n",
    "\n",
    "    # concate all images and labels.\n",
    "    images = np.concatenate(images, axis=1)\n",
    "    labels = np.array(labels)\n",
    "\n",
    "    return images, labels"
   ]
  },
  {
   "cell_type": "code",
   "execution_count": null,
   "id": "2494b6d8",
   "metadata": {
    "id": "2494b6d8",
    "outputId": "d82ce2a7-8fd7-4e22-eff3-c8ed5c6b1fd8"
   },
   "outputs": [
    {
     "name": "stdout",
     "output_type": "stream",
     "text": [
      "ORL dataset: X.shape = (1110, 400), Y.shape = (400,)\n",
      "Extended YalB dataset: X.shape = (2016, 2414), Y.shape = (2414,)\n"
     ]
    }
   ],
   "source": [
    "# Load the ORL dataset\n",
    "X_ORL, Y_ORL = load_data(root='data/ORL', reduce=2, resize_shape = [30, 37])\n",
    "print('ORL dataset: X.shape = {}, Y.shape = {}'.format(X_ORL.shape, Y_ORL.shape))\n",
    "\n",
    "# Load the Extended YaleB dataset.\n",
    "X_YaleB, Y_YaleB = load_data(root='data/CroppedYaleB', reduce=4, resize_shape = [42, 48])\n",
    "print('Extended YalB dataset: X.shape = {}, Y.shape = {}'.format(X_YaleB.shape, Y_YaleB.shape))"
   ]
  },
  {
   "cell_type": "markdown",
   "id": "8f7d0a8e",
   "metadata": {
    "id": "8f7d0a8e"
   },
   "source": [
    "\n",
    "### 1.3 Load AR Dataset (Optional)\n",
    "\n",
    "AR dataset contains 2600 images of 100 individuals (50 male and 50\n",
    "female). All images have been cropped and resized to 120x165 pixels. To\n",
    "further reduce the computation complexity, you can resize all images to\n",
    "40x55 pixels."
   ]
  },
  {
   "cell_type": "code",
   "execution_count": null,
   "id": "9b43143b",
   "metadata": {
    "id": "9b43143b"
   },
   "outputs": [],
   "source": [
    "def load_data_AR(root='data/CroppedAR', reduce=3):\n",
    "    \"\"\" \n",
    "    Load AR dataset to numpy array.\n",
    "    \n",
    "    Args:\n",
    "        root: path to AR dataset.\n",
    "        reduce: scale factor for zooming out images.\n",
    "        \n",
    "    \"\"\" \n",
    "    images, labels = [], []\n",
    "    \n",
    "    for fname in os.listdir(root):\n",
    "        \n",
    "        if not fname.endswith('.bmp'):\n",
    "            continue\n",
    "        \n",
    "        # get label.\n",
    "        label = int(fname[2:5])\n",
    "        if fname[0] == 'W': # start from 50\n",
    "            label += 50\n",
    "        \n",
    "        # load image.\n",
    "        img = Image.open(os.path.join(root, fname))\n",
    "        img = img.convert('L') # grey\n",
    "        \n",
    "        # reduce computation complexity.\n",
    "        img = img.resize([s//reduce for s in img.size])\n",
    "    \n",
    "        # TODO: preprocessing.\n",
    "        # Resize the image from 120x165 to 40x55\n",
    "        img = img.resize([s//reduce for s in img.size])\n",
    "        \n",
    "        # convert image to numpy array.\n",
    "        img = np.asarray(img).reshape((-1,1))\n",
    "        \n",
    "        # collect data and label.\n",
    "        images.append(img)\n",
    "        labels.append(label)\n",
    "        \n",
    "    # concate all images and labels.\n",
    "    images = np.concatenate(images, axis=1)\n",
    "    labels = np.array(labels)\n",
    "    \n",
    "    return images, labels"
   ]
  },
  {
   "cell_type": "markdown",
   "id": "2f34a7b6",
   "metadata": {
    "id": "2f34a7b6"
   },
   "source": [
    "## 2. NMF algorithms"
   ]
  },
  {
   "cell_type": "markdown",
   "id": "933a60fb",
   "metadata": {
    "id": "933a60fb"
   },
   "source": [
    "### 2.1 Frobenius-Norm NMF"
   ]
  },
  {
   "cell_type": "code",
   "execution_count": null,
   "id": "75b52b28",
   "metadata": {
    "id": "75b52b28"
   },
   "outputs": [],
   "source": [
    "def mf_multiplicative_update_L2(X, k, max_steps=5000, random_state = True):\n",
    "    # X is in R^{d x n}\n",
    "    # D is in R_{+}^{d x k}\n",
    "    # R is in R_{+}^{k x n}\n",
    "    d = len(X)\n",
    "    n = len(X[0])\n",
    "\n",
    "    # initialize\n",
    "\n",
    "    # For a fixed starting of D and R\n",
    "    if  random_state == True:\n",
    "        rng = np.random.RandomState(1)\n",
    "        D = rng.rand(d, k)\n",
    "        R = rng.rand(k, n)\n",
    "    \n",
    "    # For a random starting of D and R\n",
    "    else:\n",
    "        D = np.random.rand(d, k)\n",
    "        R = np.random.rand(k, n)\n",
    "\n",
    "    for step in range(max_steps):\n",
    "        # Fix D^k, solve for R^{k+1}\n",
    "        Ru = R * (D.T.dot(X)) / (D.T.dot(D).dot(R)) + 1e-7\n",
    "\n",
    "        # Fix R^{k+1}, solve for D^{k+1}\n",
    "        Du = D * (X.dot(Ru.T)) / (D.dot(Ru).dot(Ru.T)) + 1e-7\n",
    "\n",
    "        e_R = np.sqrt(np.sum((Ru-R)**2, axis=(0,1)))/R.size\n",
    "        e_D = np.sqrt(np.sum((Du-D)**2, axis=(0,1)))/D.size\n",
    "            \n",
    "        if e_R<0.00001 and e_D<0.00001:\n",
    "            break\n",
    "        R = Ru\n",
    "        D = Du\n",
    "    return D, R, step"
   ]
  },
  {
   "cell_type": "markdown",
   "id": "626bfe7e",
   "metadata": {
    "id": "626bfe7e"
   },
   "source": [
    "#### 2.1.1 Hyperparameter k exploration - ORL dataset"
   ]
  },
  {
   "cell_type": "code",
   "execution_count": null,
   "id": "ebfe9103",
   "metadata": {
    "id": "ebfe9103",
    "outputId": "28951673-6a10-48db-8d63-2b7abbfa6c06"
   },
   "outputs": [
    {
     "name": "stdout",
     "output_type": "stream",
     "text": [
      "k = 10 out of 100 has been done.\n",
      "k = 20 out of 100 has been done.\n",
      "k = 30 out of 100 has been done.\n",
      "k = 40 out of 100 has been done.\n",
      "k = 50 out of 100 has been done.\n",
      "k = 60 out of 100 has been done.\n",
      "k = 70 out of 100 has been done.\n",
      "k = 80 out of 100 has been done.\n",
      "k = 90 out of 100 has been done.\n",
      "k = 100 out of 100 has been done.\n"
     ]
    }
   ],
   "source": [
    "# Create a list of potential options of k\n",
    "k_list = [i for i in range(1, 101)]\n",
    "\n",
    "# Create an empty RRE list and step list to gather data\n",
    "RRE_list = []\n",
    "step_list = []\n",
    "\n",
    "# Loop for different k values \n",
    "for k in k_list:\n",
    "    # Obtain the D, R matrics and the steps\n",
    "    D_ORL, R_ORL, step = mf_multiplicative_update_L2(X = X_ORL, k = k, max_steps = 5000, random_state = True)\n",
    "\n",
    "    # Calculate the RRE\n",
    "    RRE = np.linalg.norm(X_ORL - D_ORL.dot(R_ORL)) / np.linalg.norm(X_ORL)\n",
    "\n",
    "    # Store the data\n",
    "    RRE_list.append(RRE)\n",
    "    step_list.append(step)\n",
    "\n",
    "    # Show the progress\n",
    "    if k % 10 == 0:\n",
    "        print('k = {} out of 100 has been done.'.format(k))"
   ]
  },
  {
   "cell_type": "code",
   "execution_count": null,
   "id": "51dc1d9c",
   "metadata": {
    "id": "51dc1d9c"
   },
   "outputs": [],
   "source": [
    "# Save the list using numpy.save\n",
    "\n",
    "RRE_list = np.array(RRE_list)\n",
    "step_list = np.array(step_list)\n",
    "\n",
    "with open('RRE_list_ORL_L2.npy', 'wb') as f:\n",
    "    np.save(f, RRE_list)\n",
    "\n",
    "with open('step_list_ORL_L2.npy', 'wb') as f:\n",
    "    np.save(f, step_list)"
   ]
  },
  {
   "cell_type": "markdown",
   "id": "83552bd5",
   "metadata": {
    "id": "83552bd5"
   },
   "source": [
    "#### 2.1.2 Hyperparameter k exploration - Extended YaleB dataset"
   ]
  },
  {
   "cell_type": "code",
   "execution_count": null,
   "id": "0723aa0d",
   "metadata": {
    "id": "0723aa0d",
    "outputId": "43b50e80-cbfa-49b3-8a40-e3a01ae19125"
   },
   "outputs": [
    {
     "name": "stdout",
     "output_type": "stream",
     "text": [
      "k = 10 out of 100 has been done.\n",
      "k = 20 out of 100 has been done.\n",
      "k = 30 out of 100 has been done.\n",
      "k = 40 out of 100 has been done.\n",
      "k = 50 out of 100 has been done.\n",
      "k = 60 out of 100 has been done.\n",
      "k = 70 out of 100 has been done.\n",
      "k = 80 out of 100 has been done.\n",
      "k = 90 out of 100 has been done.\n",
      "k = 100 out of 100 has been done.\n"
     ]
    }
   ],
   "source": [
    "# Create a list of potential options of k\n",
    "k_list = [i for i in range(1, 101)]\n",
    "\n",
    "# Create an empty RRE list and step list to gather data\n",
    "RRE_list = []\n",
    "step_list = []\n",
    "\n",
    "# Loop for different k values\n",
    "for k in k_list:\n",
    "    # Obtain the D, R matrics and the steps\n",
    "    D_YaleB, R_YaleB, step = mf_multiplicative_update_L2(X = X_YaleB, k = k, max_steps = 5000, random_state = True)\n",
    "\n",
    "    # Calculate the RRE\n",
    "    RRE = np.linalg.norm(X_YaleB - D_YaleB.dot(R_YaleB)) / np.linalg.norm(X_YaleB)\n",
    "\n",
    "    # Store the data\n",
    "    RRE_list.append(RRE)\n",
    "    step_list.append(step)\n",
    "\n",
    "    # Show the progress\n",
    "    if k % 10 == 0:\n",
    "        print('k = {} out of 100 has been done.'.format(k))"
   ]
  },
  {
   "cell_type": "code",
   "execution_count": null,
   "id": "36d51b6d",
   "metadata": {
    "id": "36d51b6d"
   },
   "outputs": [],
   "source": [
    "# Save the arrays using numpy.save\n",
    "\n",
    "RRE_list = np.array(RRE_list)\n",
    "step_list = np.array(step_list)\n",
    "\n",
    "with open('RRE_list_YaleB_L2.npy', 'wb') as f:\n",
    "    np.save(f, RRE_list)\n",
    "\n",
    "with open('step_list_YaleB_L2.npy', 'wb') as f:\n",
    "    np.save(f, step_list)"
   ]
  },
  {
   "cell_type": "markdown",
   "id": "73b80524",
   "metadata": {
    "id": "73b80524"
   },
   "source": [
    "#### 2.1.2 Hyperparameter k exploration - Visualization"
   ]
  },
  {
   "cell_type": "code",
   "execution_count": null,
   "id": "3c694ba2",
   "metadata": {
    "id": "3c694ba2"
   },
   "outputs": [],
   "source": [
    "# Load the arrays\n",
    "\n",
    "k_list = np.array([i for i in range(1, 101)])\n",
    "\n",
    "with open('RRE_list_ORL_L2.npy', 'rb') as f:\n",
    "    RRE_list_ORL = np.load(f)\n",
    "\n",
    "with open('step_list_ORL_L2.npy', 'rb') as f:\n",
    "    step_list_ORL = np.load(f)\n",
    "\n",
    "with open('RRE_list_YaleB_L2.npy', 'rb') as f:\n",
    "    RRE_list_YaleB = np.load(f)\n",
    "\n",
    "with open('step_list_YaleB_L2.npy', 'rb') as f:\n",
    "    step_list_YaleB = np.load(f)"
   ]
  },
  {
   "cell_type": "code",
   "execution_count": null,
   "id": "a070c091",
   "metadata": {
    "id": "a070c091",
    "outputId": "43a23eea-07a0-481b-c7f2-65a1dbd80ddb"
   },
   "outputs": [
    {
     "data": {
      "image/png": "[encoded data removed]",
      "text/plain": [
       "<Figure size 1152x648 with 4 Axes>"
      ]
     },
     "metadata": {
      "needs_background": "light"
     },
     "output_type": "display_data"
    }
   ],
   "source": [
    "# Plot the figures for exploration of k\n",
    "plt.rcParams[\"figure.figsize\"] = (16,9)\n",
    "plt.rcParams.update({'font.size': 15})\n",
    "fig, ((ax1, ax2), (ax3, ax4)) = plt.subplots(2, 2)\n",
    "ax1.plot(k_list, RRE_list_ORL)\n",
    "ax1.set_title('RRE(ORL)')\n",
    "ax1.set(ylabel='RRE')\n",
    "\n",
    "ax2.plot(k_list, step_list_ORL)\n",
    "ax2.set_title('Steps(ORL)')\n",
    "ax2.set( ylabel='Steps')\n",
    "\n",
    "ax3.plot(k_list, RRE_list_YaleB)\n",
    "ax3.set_title('RRE(YaleB)')\n",
    "ax3.set(xlabel='k', ylabel='RRE')\n",
    "\n",
    "ax4.plot(k_list, step_list_YaleB)\n",
    "ax4.set_title('Steps(YaleB)')\n",
    "ax4.set(xlabel='k', ylabel='Steps')\n",
    "\n",
    "plt.savefig('hyper_k_L2.pdf')\n",
    "plt.show()"
   ]
  },
  {
   "cell_type": "code",
   "execution_count": null,
   "id": "09d1b023",
   "metadata": {
    "id": "09d1b023",
    "outputId": "4bf69bb1-b63c-487d-f821-f3d5a7baf05d"
   },
   "outputs": [
    {
     "name": "stdout",
     "output_type": "stream",
     "text": [
      "The optimal k of the ORL dataset is: 27\n",
      "The optimal k of the YaleB dataset is: 29\n"
     ]
    }
   ],
   "source": [
    "# Set a threshold for finding the \"optimal\" k\n",
    "Threshold = -0.001\n",
    "\n",
    "# Start with k = 1\n",
    "opt_k_ORL = 1\n",
    "opt_k_YaleB = 1\n",
    "\n",
    "# Loop to find the \"optimal\" k\n",
    "for k in range(1, 100):\n",
    "    RRE_diff = RRE_list_ORL[k+1] - RRE_list_ORL[k]\n",
    "    if RRE_diff > Threshold:\n",
    "        opt_k_ORL = k\n",
    "        break\n",
    "# Loop to find the \"optimal\" k\n",
    "for k in range(1, 100):\n",
    "    RRE_diff = RRE_list_YaleB[k+1] - RRE_list_YaleB[k]\n",
    "    if RRE_diff > Threshold:\n",
    "        opt_k_YaleB = k\n",
    "        break\n",
    "print(\"The optimal k of the ORL dataset is:\", opt_k_ORL)\n",
    "print(\"The optimal k of the YaleB dataset is:\", opt_k_YaleB)"
   ]
  },
  {
   "cell_type": "code",
   "execution_count": null,
   "id": "b7de6b25",
   "metadata": {
    "id": "b7de6b25"
   },
   "outputs": [],
   "source": [
    "opt_k_ORL = 27\n",
    "opt_k_YaleB = 29"
   ]
  },
  {
   "cell_type": "markdown",
   "id": "53ea7cec",
   "metadata": {
    "id": "53ea7cec"
   },
   "source": [
    "### 2.2 L_{2, 1}-Norm NMF"
   ]
  },
  {
   "cell_type": "code",
   "execution_count": null,
   "id": "36d136fd",
   "metadata": {
    "id": "36d136fd"
   },
   "outputs": [],
   "source": [
    "def mf_multiplicative_update_L21(X, k, max_steps=5000, random_state = True):\n",
    "    # X is in R^{d x n}\n",
    "    # D is in R_{+}^{d x k}\n",
    "    # R is in R_{+}^{k x n}\n",
    "    d = len(X)\n",
    "    n = len(X[0])\n",
    "\n",
    "    # initialize\n",
    "\n",
    "    # For a fixed starting of D and R\n",
    "    if  random_state == True:\n",
    "        rng = np.random.RandomState(1)\n",
    "        D = rng.rand(d, k)\n",
    "        R = rng.rand(k, n)\n",
    "    \n",
    "    # For a random starting of D and R\n",
    "    else:\n",
    "        D = np.random.rand(d, k)\n",
    "        R = np.random.rand(k, n)\n",
    "\n",
    "    for step in range(max_steps):\n",
    "        # Create the diagonal matrix Q \n",
    "        X_DR = X - D.dot(R)\n",
    "        Q = np.diag(np.sqrt(np.sum(X_DR ** 2, axis = 0)))\n",
    "        \n",
    "        # Fix Q^k and D^k, solve for R^{k+1}\n",
    "        Ru = R * (D.T.dot(X).dot(Q)) / (D.T.dot(D).dot(R).dot(Q)) + 1e-7\n",
    "\n",
    "        # Fix Q^k and R^{k+1} , solve for D^{k+1}\n",
    "        Du = D * (X.dot(Q).dot(Ru.T)) / (D.dot(Ru).dot(Q).dot(Ru.T)) + 1e-7\n",
    "\n",
    "        e_R = np.sqrt(np.sum((Ru-R)**2, axis=(0,1)))/R.size\n",
    "        e_D = np.sqrt(np.sum((Du-D)**2, axis=(0,1)))/D.size\n",
    "                \n",
    "        if e_R<0.00001 and e_D<0.00001:\n",
    "            break\n",
    "        R = Ru\n",
    "        D = Du\n",
    "    return D, R, step"
   ]
  },
  {
   "cell_type": "markdown",
   "id": "03d1ceeb",
   "metadata": {
    "id": "03d1ceeb"
   },
   "source": [
    "## 3. Noise generation"
   ]
  },
  {
   "cell_type": "markdown",
   "id": "3e1ff9ac",
   "metadata": {
    "id": "3e1ff9ac"
   },
   "source": [
    "### 3.1 Random addition noise"
   ]
  },
  {
   "cell_type": "code",
   "execution_count": null,
   "id": "70283cbb",
   "metadata": {
    "id": "70283cbb"
   },
   "outputs": [],
   "source": [
    "# Generate the noise with random integer in range(0, 40)\n",
    "add_noise_ORL = np.random.rand(*X_ORL.shape) * 40\n",
    "add_noise_YaleB = np.random.rand(*X_YaleB.shape) * 40\n",
    "\n",
    "# Add Noise.\n",
    "X_add_noise_ORL = X_ORL.copy() + add_noise_ORL\n",
    "X_add_noise_YaleB = X_YaleB.copy() + add_noise_YaleB"
   ]
  },
  {
   "cell_type": "code",
   "execution_count": null,
   "id": "be41f4ac",
   "metadata": {
    "id": "be41f4ac",
    "outputId": "6d1f04de-b41b-4637-b34e-915ce2409f08"
   },
   "outputs": [
    {
     "name": "stdout",
     "output_type": "stream",
     "text": [
      "==> ORL dataset visualization\n"
     ]
    },
    {
     "data": {
      "image/png": "[encoded data removed]",
      "text/plain": [
       "<Figure size 720x216 with 3 Axes>"
      ]
     },
     "metadata": {
      "needs_background": "light"
     },
     "output_type": "display_data"
    }
   ],
   "source": [
    "# Visualization for ORL dataset\n",
    "\n",
    "print('==> ORL dataset visualization')\n",
    "img_size = [30, 37] # ORL (30, 37)\n",
    "ind = 2 # index of demo image.\n",
    "plt.figure(figsize=(10,3))\n",
    "plt.subplot(131)\n",
    "plt.imshow(X_ORL[:,ind].reshape(img_size[1],img_size[0]), cmap=plt.cm.gray)\n",
    "plt.title('Image(Original)')\n",
    "plt.subplot(132)\n",
    "plt.imshow(add_noise_ORL[:,ind].reshape(img_size[1],img_size[0]), cmap=plt.cm.gray)\n",
    "plt.title('Noise')\n",
    "plt.subplot(133)\n",
    "plt.imshow(X_add_noise_ORL[:,ind].reshape(img_size[1],img_size[0]), cmap=plt.cm.gray)\n",
    "plt.title('Image(Noise)')\n",
    "plt.savefig('ORL_random_noise.pdf')\n",
    "plt.show()"
   ]
  },
  {
   "cell_type": "code",
   "execution_count": null,
   "id": "1d60beb2",
   "metadata": {
    "id": "1d60beb2",
    "outputId": "058323ad-b766-4c8b-bb4b-a4dd8fead1a6"
   },
   "outputs": [
    {
     "name": "stdout",
     "output_type": "stream",
     "text": [
      "==> YaleB dataset visualization\n"
     ]
    },
    {
     "data": {
      "image/png": "[encoded data removed]",
      "text/plain": [
       "<Figure size 720x216 with 3 Axes>"
      ]
     },
     "metadata": {
      "needs_background": "light"
     },
     "output_type": "display_data"
    }
   ],
   "source": [
    "# Visualization for YaleB dataset \n",
    "\n",
    "print('==> YaleB dataset visualization')\n",
    "img_size = [42, 48] # ORL (42, 48)\n",
    "ind = 5 # index of demo image.\n",
    "plt.figure(figsize=(10,3))\n",
    "plt.subplot(131)\n",
    "plt.imshow(X_YaleB[:,ind].reshape(img_size[1],img_size[0]), cmap=plt.cm.gray)\n",
    "plt.title('Image(Original)')\n",
    "plt.subplot(132)\n",
    "plt.imshow(add_noise_YaleB[:,ind].reshape(img_size[1],img_size[0]), cmap=plt.cm.gray)\n",
    "plt.title('Noise')\n",
    "plt.subplot(133)\n",
    "plt.imshow(X_add_noise_YaleB[:,ind].reshape(img_size[1],img_size[0]), cmap=plt.cm.gray)\n",
    "plt.title('Image(Noise)')\n",
    "plt.savefig('YaleB_random_noise.pdf')\n",
    "plt.show()"
   ]
  },
  {
   "cell_type": "markdown",
   "id": "2737ad7d",
   "metadata": {
    "id": "2737ad7d"
   },
   "source": [
    "### 3.2 Block-occlusion noise"
   ]
  },
  {
   "cell_type": "code",
   "execution_count": null,
   "id": "f96e9cc2",
   "metadata": {
    "id": "f96e9cc2"
   },
   "outputs": [],
   "source": [
    "# Noise generation for ORL dataset\n",
    "\n",
    "bc_noise_ORL = np.zeros((X_ORL.shape))\n",
    "\n",
    "# The image size for ORL\n",
    "img_size = [30, 37] # ORL (30, 37)\n",
    "\n",
    "# Reshape the noise array into a 3-D form\n",
    "bc_noise_ORL = np.reshape(bc_noise_ORL, (img_size[1], img_size[0], X_ORL.shape[1]))\n",
    "\n",
    "b = 10\n",
    "for i in range(X_ORL.shape[1]):\n",
    "\n",
    "    # The upper-left position of the box (random)\n",
    "    x_pos = np.random.randint(low = 0, high = img_size[1] - b + 1)\n",
    "\n",
    "    # The lower-left position of the box (random)\n",
    "    y_pos = np.random.randint(low = 0, high = img_size[0] - b + 1)\n",
    "\n",
    "    #change the pixel values in the box to 255\n",
    "    bc_noise_ORL[:, :, i][x_pos:x_pos+b, y_pos:y_pos+b] = 255\n",
    "\n",
    "# Reshape the noise array into a 2-D form\n",
    "bc_noise_ORL = bc_noise_ORL.reshape((X_ORL.shape))\n",
    "\n",
    "# Add Noise\n",
    "X_bc_noise_ORL = X_ORL.copy() + bc_noise_ORL\n",
    "\n",
    "# Clip the values to the interval of [0, 255]\n",
    "X_bc_noise_ORL = np.clip(X_bc_noise_ORL, 0, 255)\n",
    "\n",
    "# Change the dtype to uint8 \n",
    "X_bc_noise_ORL = X_bc_noise_ORL.astype('uint8')"
   ]
  },
  {
   "cell_type": "code",
   "execution_count": null,
   "id": "5effb4b3",
   "metadata": {
    "id": "5effb4b3",
    "outputId": "a39d4f4a-2abf-4d9f-8652-3a2eceda63be"
   },
   "outputs": [
    {
     "name": "stdout",
     "output_type": "stream",
     "text": [
      "==> ORL dataset visualization\n"
     ]
    },
    {
     "data": {
      "image/png": "[encoded data removed]",
      "text/plain": [
       "<Figure size 864x648 with 6 Axes>"
      ]
     },
     "metadata": {
      "needs_background": "light"
     },
     "output_type": "display_data"
    }
   ],
   "source": [
    "# Visualization for ORL dataset \n",
    "\n",
    "print('==> ORL dataset visualization')\n",
    "img_size = [i//3 for i in (92, 112)] # ORL (30, 37)\n",
    "ind = 2 # index of demo image.\n",
    "plt.figure(figsize=(12,9))\n",
    "plt.subplot(231)\n",
    "plt.imshow(X_ORL[:,ind].reshape(img_size[1],img_size[0]), cmap=plt.cm.gray)\n",
    "plt.title('Image(Original)')\n",
    "plt.subplot(232)\n",
    "plt.imshow(bc_noise_ORL[:,ind].reshape(img_size[1],img_size[0]), cmap=plt.cm.gray)\n",
    "plt.title('Noise')\n",
    "plt.subplot(233)\n",
    "plt.imshow(X_bc_noise_ORL[:,ind].reshape(img_size[1],img_size[0]), cmap=plt.cm.gray)\n",
    "plt.title('Image(Noise)')\n",
    "\n",
    "# plot another demo image to show the random box\n",
    "plt.subplot(234)\n",
    "plt.imshow(X_ORL[:,ind+5].reshape(img_size[1],img_size[0]), cmap=plt.cm.gray)\n",
    "plt.title('Image(Original)')\n",
    "plt.subplot(235)\n",
    "plt.imshow(bc_noise_ORL[:,ind+5].reshape(img_size[1],img_size[0]), cmap=plt.cm.gray)\n",
    "plt.title('Noise')\n",
    "plt.subplot(236)\n",
    "plt.imshow(X_bc_noise_ORL[:,ind+5].reshape(img_size[1],img_size[0]), cmap=plt.cm.gray)\n",
    "plt.title('Image(Noise)')\n",
    "plt.savefig('ORL_occlusion_noise.pdf')\n",
    "plt.show()"
   ]
  },
  {
   "cell_type": "code",
   "execution_count": null,
   "id": "75c91f6c",
   "metadata": {
    "id": "75c91f6c"
   },
   "outputs": [],
   "source": [
    "# Noise generation for YaleB dataset\n",
    "\n",
    "bc_noise_YaleB = np.zeros((X_YaleB.shape))\n",
    "\n",
    "# The image size for YaleB\n",
    "img_size = [42, 48] # YaleB (42, 48)\n",
    "\n",
    "# Reshape the noise array into a 3-D form\n",
    "bc_noise_YaleB = np.reshape(bc_noise_YaleB, (img_size[1], img_size[0], X_YaleB.shape[1]))\n",
    "\n",
    "b = 10\n",
    "for i in range(X_YaleB.shape[1]):\n",
    "\n",
    "    # The upper-left position of the box (random)\n",
    "    x_pos = np.random.randint(low = 0, high = img_size[1] - b + 1)\n",
    "\n",
    "    # The lower-left position of the box (random)\n",
    "    y_pos = np.random.randint(low = 0, high = img_size[0] - b + 1)\n",
    "\n",
    "    #change the pixel values in the box to 255\n",
    "    bc_noise_YaleB[:, :, i][x_pos:x_pos+b, y_pos:y_pos+b] = 255\n",
    "\n",
    "# Reshape the noise array into a 2-D form\n",
    "bc_noise_YaleB = bc_noise_YaleB.reshape((X_YaleB.shape))\n",
    "\n",
    "# Add Noise\n",
    "X_bc_noise_YaleB = X_YaleB.copy() + bc_noise_YaleB\n",
    "\n",
    "# Clip the values to the interval of [0, 255]\n",
    "X_bc_noise_YaleB = np.clip(X_bc_noise_YaleB, 0, 255)\n",
    "\n",
    "# Change the dtype to uint8 \n",
    "X_bc_noise_YaleB = X_bc_noise_YaleB.astype('uint8')"
   ]
  },
  {
   "cell_type": "code",
   "execution_count": null,
   "id": "5dc38edb",
   "metadata": {
    "id": "5dc38edb",
    "outputId": "e630a372-ca5d-4203-8ec6-9230669842e1"
   },
   "outputs": [
    {
     "name": "stdout",
     "output_type": "stream",
     "text": [
      "==> YaleB dataset visualization\n"
     ]
    },
    {
     "data": {
      "image/png": "[encoded data removed]",
      "text/plain": [
       "<Figure size 864x648 with 6 Axes>"
      ]
     },
     "metadata": {
      "needs_background": "light"
     },
     "output_type": "display_data"
    }
   ],
   "source": [
    "# Visualization for YaleB dataset \n",
    "\n",
    "print('==> YaleB dataset visualization')\n",
    "img_size = [42, 48] # YaleB (42, 48)\n",
    "ind = 5 # index of demo image.\n",
    "plt.figure(figsize=(12,9))\n",
    "plt.subplot(231)\n",
    "plt.imshow(X_YaleB[:,ind].reshape(img_size[1],img_size[0]), cmap=plt.cm.gray)\n",
    "plt.title('Image(Original)')\n",
    "plt.subplot(232)\n",
    "plt.imshow(bc_noise_YaleB[:,ind].reshape(img_size[1],img_size[0]), cmap=plt.cm.gray)\n",
    "plt.title('Noise')\n",
    "plt.subplot(233)\n",
    "plt.imshow(X_bc_noise_YaleB[:,ind].reshape(img_size[1],img_size[0]), cmap=plt.cm.gray)\n",
    "plt.title('Image(Noise)')\n",
    "\n",
    "# plot another demo image to show the random box\n",
    "plt.subplot(234)\n",
    "plt.imshow(X_YaleB[:,ind+5].reshape(img_size[1],img_size[0]), cmap=plt.cm.gray)\n",
    "plt.title('Image(Original)')\n",
    "plt.subplot(235)\n",
    "plt.imshow(bc_noise_YaleB[:,ind+5].reshape(img_size[1],img_size[0]), cmap=plt.cm.gray)\n",
    "plt.title('Noise')\n",
    "plt.subplot(236)\n",
    "plt.imshow(X_bc_noise_YaleB[:,ind+5].reshape(img_size[1],img_size[0]), cmap=plt.cm.gray)\n",
    "plt.title('Image(Noise)')\n",
    "plt.savefig('YaleB_occlusion_noise.pdf')\n",
    "plt.show()"
   ]
  },
  {
   "cell_type": "markdown",
   "id": "3f8d9f85",
   "metadata": {
    "id": "3f8d9f85"
   },
   "source": [
    "## 3. Evaluation Metrics\n",
    "\n",
    "### 3.1 Relative Reconstruction Errors (RRE)\n",
    "\n",
    "To compare the robustness of different NMF algorithms, you can use the\n",
    "`relative reconstruction errors`. Let $V$ denote the contaminated\n",
    "dataset (by adding noise), and $\\hat{V}$ denote the clean dataset.\n",
    "Let $W$ and $H$ denote the factorization results on $V$, the\n",
    "`relative reconstruction errors` then can be defined as follows:\n",
    " $$ RRE = \\frac{ \\| \\hat{V} - WH \\|_F }{ \\| \\hat{V} \\|_F}.  $$\n",
    "\n",
    "### 3.2 Evaluate Clustering Performance\n",
    "Accuracy can be calculated as follows.\n",
    "$$Acc(Y, Y_{pred}) = \\frac{1}{n}\\sum \\limits_{i=1}^n 1\\{Y_{pred}(i)==Y(i)\\}.$$\n",
    "\n",
    "\n",
    "Normalized Mutual Information (NMI) can be calculated as follows.\n",
    "$$ NMI(Y, Y_{pred}) = \\frac{2 * I(Y, Y_{pred})}{H(Y) + H(Y_{pred})}, $$\n",
    "where $ I(\\cdot,\\cdot) $ is mutual information and $ H(\\cdot)$ is entropy.\n"
   ]
  },
  {
   "cell_type": "markdown",
   "id": "6a1c08cc",
   "metadata": {
    "id": "6a1c08cc"
   },
   "source": [
    "#### 3.3.1 ORL dataset"
   ]
  },
  {
   "cell_type": "code",
   "execution_count": null,
   "id": "a0deab7f",
   "metadata": {
    "id": "a0deab7f"
   },
   "outputs": [],
   "source": [
    "# Define the clustering function using K-means from sklearn\n",
    "def assign_cluster_label(X, Y):\n",
    "    kmeans = KMeans(n_clusters=len(set(Y))).fit(X)\n",
    "    Y_pred = np.zeros(Y.shape)\n",
    "    for i in set(kmeans.labels_):\n",
    "        ind = kmeans.labels_ == i\n",
    "        Y_pred[ind] = Counter(Y[ind]).most_common(1)[0][0] # assign label.\n",
    "    return Y_pred\n"
   ]
  },
  {
   "cell_type": "code",
   "execution_count": null,
   "id": "77ca20ee",
   "metadata": {
    "id": "77ca20ee",
    "outputId": "f6b56232-88e5-4713-e637-80797031484c"
   },
   "outputs": [
    {
     "name": "stdout",
     "output_type": "stream",
     "text": [
      "==> Start evaluation NMF(Frobenius norm) ...\n",
      "i = 10 out of 100 has been done.\n",
      "i = 20 out of 100 has been done.\n",
      "i = 30 out of 100 has been done.\n",
      "i = 40 out of 100 has been done.\n",
      "i = 50 out of 100 has been done.\n",
      "i = 60 out of 100 has been done.\n",
      "i = 70 out of 100 has been done.\n",
      "i = 80 out of 100 has been done.\n",
      "i = 90 out of 100 has been done.\n",
      "i = 100 out of 100 has been done.\n"
     ]
    }
   ],
   "source": [
    "print('==> Start evaluation NMF(Frobenius norm) ...')\n",
    "\n",
    "# Create empty lists for data collection\n",
    "RRE_list_ORL_L2 = []\n",
    "RRE_add_list_ORL_L2 = []\n",
    "RRE_bc_list_ORL_L2 = []\n",
    "\n",
    "acc_list_ORL_L2 = []\n",
    "acc_add_list_ORL_L2 = []\n",
    "acc_bc_list_ORL_L2 = []\n",
    "\n",
    "nmi_list_ORL_L2 = []\n",
    "nmi_add_list_ORL_L2 = []\n",
    "nmi_bc_list_ORL_L2 = []\n",
    "\n",
    "for i in range(1, 101):\n",
    "#==========================================================================================================================================\n",
    "    # Without noise\n",
    "    D_ORL, R_ORL, step = mf_multiplicative_update_L2(X = X_ORL, k = opt_k_ORL, max_steps = 5000, random_state = False)\n",
    "    RRE = np.linalg.norm(X_ORL - D_ORL.dot(R_ORL)) / np.linalg.norm(X_ORL)\n",
    "    RRE_list_ORL_L2.append(RRE)\n",
    "    \n",
    "    # # Assign cluster labels.\n",
    "    Y_pred = assign_cluster_label(R_ORL.T, Y_ORL)\n",
    "    # Calculate the accuracy\n",
    "    acc = accuracy_score(Y_ORL, Y_pred)\n",
    "    acc_list_ORL_L2.append(acc)\n",
    "    # Calculate the NMI\n",
    "    nmi = normalized_mutual_info_score(Y_ORL, Y_pred)\n",
    "    nmi_list_ORL_L2.append(nmi)\n",
    "\n",
    "#==========================================================================================================================================\n",
    "    # With random addition noise\n",
    "    D_add_ORL, R_add_ORL, step = mf_multiplicative_update_L2(X = X_add_noise_ORL, k = opt_k_ORL, max_steps = 5000, random_state = False)\n",
    "    RRE_add = np.linalg.norm(X_ORL - D_add_ORL.dot(R_add_ORL)) / np.linalg.norm(X_ORL)\n",
    "    RRE_add_list_ORL_L2.append(RRE_add)\n",
    "\n",
    "    # # Assign cluster labels.\n",
    "    Y_pred_add = assign_cluster_label(R_add_ORL.T, Y_ORL)\n",
    "    # Calculate the accuracy\n",
    "    acc_add = accuracy_score(Y_ORL, Y_pred_add)\n",
    "    acc_add_list_ORL_L2.append(acc_add)\n",
    "    # Calculate the NMI\n",
    "    nmi_add = normalized_mutual_info_score(Y_ORL, Y_pred_add)\n",
    "    nmi_add_list_ORL_L2.append(nmi_add)\n",
    "\n",
    "#==========================================================================================================================================\n",
    "    # With block-occulusion noise\n",
    "    D_bc_ORL, R_bc_ORL, step = mf_multiplicative_update_L2(X = X_bc_noise_ORL, k = opt_k_ORL, max_steps = 5000, random_state = False)\n",
    "    RRE_bc = np.linalg.norm(X_ORL - D_bc_ORL.dot(R_bc_ORL)) / np.linalg.norm(X_ORL)\n",
    "    RRE_bc_list_ORL_L2.append(RRE_bc)\n",
    "\n",
    "    # # Assign cluster labels.\n",
    "    Y_pred_bc = assign_cluster_label(R_bc_ORL.T, Y_ORL)\n",
    "    # Calculate the accuracy\n",
    "    acc_bc = accuracy_score(Y_ORL, Y_pred_bc)\n",
    "    acc_bc_list_ORL_L2.append(acc_bc)\n",
    "    # Calculate the NMI\n",
    "    nmi_bc = normalized_mutual_info_score(Y_ORL, Y_pred_bc)\n",
    "    nmi_bc_list_ORL_L2.append(nmi_bc)\n",
    "\n",
    "#==========================================================================================================================================\n",
    "    if i%10 == 0:\n",
    "        print('i = {} out of 100 has been done.'.format(i))"
   ]
  },
  {
   "cell_type": "code",
   "execution_count": null,
   "id": "de134eed",
   "metadata": {
    "id": "de134eed"
   },
   "outputs": [],
   "source": [
    "# Save all the results for NMF(Frobenius norm)\n",
    "\n",
    "RREs = np.array([RRE_list_ORL_L2, RRE_add_list_ORL_L2, RRE_bc_list_ORL_L2])\n",
    "accs = np.array([acc_list_ORL_L2, acc_add_list_ORL_L2, acc_bc_list_ORL_L2])\n",
    "nmis = np.array([nmi_list_ORL_L2, nmi_add_list_ORL_L2, nmi_bc_list_ORL_L2])\n",
    "\n",
    "with open('RREs_L2_ORL.npy', 'wb') as f:\n",
    "    np.save(f, RREs)\n",
    "\n",
    "with open('accs_L2_ORL.npy', 'wb') as f:\n",
    "    np.save(f, accs)\n",
    "\n",
    "with open('nmis_L2_ORL.npy', 'wb') as f:\n",
    "    np.save(f, nmis)"
   ]
  },
  {
   "cell_type": "code",
   "execution_count": null,
   "id": "85f79e8c",
   "metadata": {
    "id": "85f79e8c",
    "outputId": "27498523-b59e-4cf7-c9ec-bc1b1ff8e3e5"
   },
   "outputs": [
    {
     "name": "stdout",
     "output_type": "stream",
     "text": [
      "==> Start evaluation NMF(L_{2, 1} norm) ...\n",
      "i = 10 out of 100 has been done.\n",
      "i = 20 out of 100 has been done.\n",
      "i = 30 out of 100 has been done.\n",
      "i = 40 out of 100 has been done.\n",
      "i = 50 out of 100 has been done.\n",
      "i = 60 out of 100 has been done.\n",
      "i = 70 out of 100 has been done.\n",
      "i = 80 out of 100 has been done.\n",
      "i = 90 out of 100 has been done.\n",
      "i = 100 out of 100 has been done.\n"
     ]
    }
   ],
   "source": [
    "# Repeat the process for L_{2, 1} Norm\n",
    "print('==> Start evaluation NMF(L_{2, 1} norm) ...')\n",
    "RRE_list_ORL_L21 = []\n",
    "RRE_add_list_ORL_L21 = []\n",
    "RRE_bc_list_ORL_L21 = []\n",
    "\n",
    "acc_list_ORL_L21 = []\n",
    "acc_add_list_ORL_L21 = []\n",
    "acc_bc_list_ORL_L21 = []\n",
    "\n",
    "nmi_list_ORL_L21 = []\n",
    "nmi_add_list_ORL_L21 = []\n",
    "nmi_bc_list_ORL_L21 = []\n",
    "\n",
    "for i in range(1, 101):\n",
    "#==========================================================================================================================================\n",
    "    # Without noise\n",
    "    D_ORL, R_ORL, step = mf_multiplicative_update_L21(X = X_ORL, k = opt_k_ORL, max_steps = 5000, random_state = False)\n",
    "    RRE = np.linalg.norm(X_ORL - D_ORL.dot(R_ORL)) / np.linalg.norm(X_ORL)\n",
    "    RRE_list_ORL_L21.append(RRE)\n",
    "    \n",
    "    # # Assign cluster labels.\n",
    "    Y_pred = assign_cluster_label(R_ORL.T, Y_ORL)\n",
    "    acc = accuracy_score(Y_ORL, Y_pred)\n",
    "    acc_list_ORL_L21.append(acc)\n",
    "    nmi = normalized_mutual_info_score(Y_ORL, Y_pred)\n",
    "    nmi_list_ORL_L21.append(nmi)\n",
    "\n",
    "#==========================================================================================================================================\n",
    "    # With random addition noise\n",
    "    D_add_ORL, R_add_ORL, step = mf_multiplicative_update_L21(X = X_add_noise_ORL, k = opt_k_ORL, max_steps = 5000, random_state = False)\n",
    "    RRE_add = np.linalg.norm(X_ORL - D_add_ORL.dot(R_add_ORL)) / np.linalg.norm(X_ORL)\n",
    "    RRE_add_list_ORL_L21.append(RRE_add)\n",
    "\n",
    "    # # Assign cluster labels.\n",
    "    Y_pred_add = assign_cluster_label(R_add_ORL.T, Y_ORL)\n",
    "    acc_add = accuracy_score(Y_ORL, Y_pred_add)\n",
    "    acc_add_list_ORL_L21.append(acc_add)\n",
    "    nmi_add = normalized_mutual_info_score(Y_ORL, Y_pred_add)\n",
    "    nmi_add_list_ORL_L21.append(nmi_add)\n",
    "\n",
    "#==========================================================================================================================================\n",
    "    # With block-occulusion noise\n",
    "    D_bc_ORL, R_bc_ORL, step = mf_multiplicative_update_L21(X = X_bc_noise_ORL, k = opt_k_ORL, max_steps = 5000, random_state = False)\n",
    "    RRE_bc = np.linalg.norm(X_ORL - D_bc_ORL.dot(R_bc_ORL)) / np.linalg.norm(X_ORL)\n",
    "    RRE_bc_list_ORL_L21.append(RRE_bc)\n",
    "\n",
    "    # # Assign cluster labels.\n",
    "    Y_pred_bc = assign_cluster_label(R_bc_ORL.T, Y_ORL)\n",
    "    acc_bc = accuracy_score(Y_ORL, Y_pred_bc)\n",
    "    acc_bc_list_ORL_L21.append(acc_bc)\n",
    "    nmi_bc = normalized_mutual_info_score(Y_ORL, Y_pred_bc)\n",
    "    nmi_bc_list_ORL_L21.append(nmi_bc)\n",
    "\n",
    "#==========================================================================================================================================\n",
    "    if i%10 == 0:\n",
    "        print('i = {} out of 100 has been done.'.format(i))"
   ]
  },
  {
   "cell_type": "code",
   "execution_count": null,
   "id": "b9d74bad",
   "metadata": {
    "id": "b9d74bad"
   },
   "outputs": [],
   "source": [
    "# Save all the results for NMF(L_{2, 1} norm)\n",
    "\n",
    "RREs = np.array([RRE_list_ORL_L21, RRE_add_list_ORL_L21, RRE_bc_list_ORL_L21])\n",
    "accs = np.array([acc_list_ORL_L21, acc_add_list_ORL_L21, acc_bc_list_ORL_L21])\n",
    "nmis = np.array([nmi_list_ORL_L21, nmi_add_list_ORL_L21, nmi_bc_list_ORL_L21])\n",
    "\n",
    "with open('RREs_L21_ORL.npy', 'wb') as f:\n",
    "    np.save(f, RREs)\n",
    "\n",
    "with open('accs_L21_ORL.npy', 'wb') as f:\n",
    "    np.save(f, accs)\n",
    "\n",
    "with open('nmis_L21_ORL.npy', 'wb') as f:\n",
    "    np.save(f, nmis)"
   ]
  },
  {
   "cell_type": "code",
   "execution_count": null,
   "id": "10915e9f",
   "metadata": {
    "id": "10915e9f"
   },
   "outputs": [],
   "source": [
    "# Load the data stored\n",
    "\n",
    "with open('RREs_L2_ORL.npy', 'rb') as f:\n",
    "    RREs_L2_ORL = np.load(f, allow_pickle=True)\n",
    "\n",
    "with open('accs_L2_ORL.npy', 'rb') as f:\n",
    "    accs_L2_ORL = np.load(f, allow_pickle=True)\n",
    "\n",
    "with open('nmis_L2_ORL.npy', 'rb') as f:\n",
    "    nmis_L2_ORL = np.load(f, allow_pickle=True)\n",
    "\n",
    "with open('RREs_L21_ORL.npy', 'rb') as f:\n",
    "    RREs_L21_ORL = np.load(f, allow_pickle=True)\n",
    "\n",
    "with open('accs_L21_ORL.npy', 'rb') as f:\n",
    "    accs_L21_ORL = np.load(f, allow_pickle=True)\n",
    "\n",
    "with open('nmis_L21_ORL.npy', 'rb') as f:\n",
    "    nmis_L21_ORL = np.load(f, allow_pickle=True)"
   ]
  },
  {
   "cell_type": "code",
   "execution_count": null,
   "id": "afd97be2",
   "metadata": {
    "id": "afd97be2",
    "outputId": "b462c8e1-a5ff-4d24-90f1-8e8e2f6ea6ac"
   },
   "outputs": [
    {
     "data": {
      "text/html": [
       "<div>\n",
       "<style scoped>\n",
       "    .dataframe tbody tr th:only-of-type {\n",
       "        vertical-align: middle;\n",
       "    }\n",
       "\n",
       "    .dataframe tbody tr th {\n",
       "        vertical-align: top;\n",
       "    }\n",
       "\n",
       "    .dataframe thead th {\n",
       "        text-align: right;\n",
       "    }\n",
       "</style>\n",
       "<table border=\"1\" class=\"dataframe\">\n",
       "  <thead>\n",
       "    <tr style=\"text-align: right;\">\n",
       "      <th></th>\n",
       "      <th>ORL(Original)-Frobenius</th>\n",
       "      <th>ORL(Add Noise)-Frobenius</th>\n",
       "      <th>ORL(Block Noise)-Frobenius</th>\n",
       "      <th>ORL(Original)-L_{2, 1}</th>\n",
       "      <th>ORL(Add Noise)-L_{2, 1}</th>\n",
       "      <th>ORL(Block Noise)-L_{2, 1}</th>\n",
       "    </tr>\n",
       "  </thead>\n",
       "  <tbody>\n",
       "    <tr>\n",
       "      <th>RRE (mean)</th>\n",
       "      <td>0.138017</td>\n",
       "      <td>0.215618</td>\n",
       "      <td>0.325805</td>\n",
       "      <td>0.138178</td>\n",
       "      <td>0.21543</td>\n",
       "      <td>0.324561</td>\n",
       "    </tr>\n",
       "    <tr>\n",
       "      <th>RRE (std)</th>\n",
       "      <td>0.00024</td>\n",
       "      <td>0.000171</td>\n",
       "      <td>0.000348</td>\n",
       "      <td>0.000243</td>\n",
       "      <td>0.000166</td>\n",
       "      <td>0.00034</td>\n",
       "    </tr>\n",
       "    <tr>\n",
       "      <th>Accuracy (mean)</th>\n",
       "      <td>0.7276</td>\n",
       "      <td>0.73165</td>\n",
       "      <td>0.25765</td>\n",
       "      <td>0.718825</td>\n",
       "      <td>0.72715</td>\n",
       "      <td>0.27385</td>\n",
       "    </tr>\n",
       "    <tr>\n",
       "      <th>Accuracy (std)</th>\n",
       "      <td>0.023008</td>\n",
       "      <td>0.025187</td>\n",
       "      <td>0.017592</td>\n",
       "      <td>0.025255</td>\n",
       "      <td>0.023391</td>\n",
       "      <td>0.017122</td>\n",
       "    </tr>\n",
       "    <tr>\n",
       "      <th>NMI (mean)</th>\n",
       "      <td>0.846747</td>\n",
       "      <td>0.848463</td>\n",
       "      <td>0.423083</td>\n",
       "      <td>0.842997</td>\n",
       "      <td>0.846881</td>\n",
       "      <td>0.437489</td>\n",
       "    </tr>\n",
       "    <tr>\n",
       "      <th>NMI (std)</th>\n",
       "      <td>0.013144</td>\n",
       "      <td>0.01419</td>\n",
       "      <td>0.017817</td>\n",
       "      <td>0.014565</td>\n",
       "      <td>0.013697</td>\n",
       "      <td>0.018118</td>\n",
       "    </tr>\n",
       "  </tbody>\n",
       "</table>\n",
       "</div>"
      ],
      "text/plain": [
       "                ORL(Original)-Frobenius ORL(Add Noise)-Frobenius  \\\n",
       "RRE (mean)                     0.138017                 0.215618   \n",
       "RRE (std)                       0.00024                 0.000171   \n",
       "Accuracy (mean)                  0.7276                  0.73165   \n",
       "Accuracy (std)                 0.023008                 0.025187   \n",
       "NMI (mean)                     0.846747                 0.848463   \n",
       "NMI (std)                      0.013144                  0.01419   \n",
       "\n",
       "                ORL(Block Noise)-Frobenius ORL(Original)-L_{2, 1}  \\\n",
       "RRE (mean)                        0.325805               0.138178   \n",
       "RRE (std)                         0.000348               0.000243   \n",
       "Accuracy (mean)                    0.25765               0.718825   \n",
       "Accuracy (std)                    0.017592               0.025255   \n",
       "NMI (mean)                        0.423083               0.842997   \n",
       "NMI (std)                         0.017817               0.014565   \n",
       "\n",
       "                ORL(Add Noise)-L_{2, 1} ORL(Block Noise)-L_{2, 1}  \n",
       "RRE (mean)                      0.21543                  0.324561  \n",
       "RRE (std)                      0.000166                   0.00034  \n",
       "Accuracy (mean)                 0.72715                   0.27385  \n",
       "Accuracy (std)                 0.023391                  0.017122  \n",
       "NMI (mean)                     0.846881                  0.437489  \n",
       "NMI (std)                      0.013697                  0.018118  "
      ]
     },
     "execution_count": 102,
     "metadata": {},
     "output_type": "execute_result"
    }
   ],
   "source": [
    "# Generate a dataframe to visualize the data\n",
    "df = pd.DataFrame(columns=['ORL(Original)-Frobenius', 'ORL(Add Noise)-Frobenius', 'ORL(Block Noise)-Frobenius', 'ORL(Original)-L_{2, 1}', 'ORL(Add Noise)-L_{2, 1}', 'ORL(Block Noise)-L_{2, 1}'], index=['RRE (mean)', 'RRE (std)', 'Accuracy (mean)', 'Accuracy (std)', 'NMI (mean)', 'NMI (std)'])\n",
    "df.loc['RRE (mean)'] = [np.mean(RREs_L2_ORL[0]), np.mean(RREs_L2_ORL[1]), np.mean(RREs_L2_ORL[2]), np.mean(RREs_L21_ORL[0]), np.mean(RREs_L21_ORL[1]), np.mean(RREs_L21_ORL[2])]\n",
    "df.loc['RRE (std)'] = [np.std(RREs_L2_ORL[0]), np.std(RREs_L2_ORL[1]), np.std(RREs_L2_ORL[2]), np.std(RREs_L21_ORL[0]), np.std(RREs_L21_ORL[1]), np.std(RREs_L21_ORL[2])]\n",
    "\n",
    "df.loc['Accuracy (mean)'] = [np.mean(accs_L2_ORL[0]), np.mean(accs_L2_ORL[1]), np.mean(accs_L2_ORL[2]), np.mean(accs_L21_ORL[0]), np.mean(accs_L21_ORL[1]), np.mean(accs_L21_ORL[2])]\n",
    "df.loc['Accuracy (std)'] = [np.std(accs_L2_ORL[0]), np.std(accs_L2_ORL[1]), np.std(accs_L2_ORL[2]), np.std(accs_L21_ORL[0]), np.std(accs_L21_ORL[1]), np.std(accs_L21_ORL[2])]\n",
    "\n",
    "df.loc['NMI (mean)'] = [np.mean(nmis_L2_ORL[0]), np.mean(nmis_L2_ORL[1]), np.mean(nmis_L2_ORL[2]), np.mean(nmis_L21_ORL[0]), np.mean(nmis_L21_ORL[1]), np.mean(nmis_L21_ORL[2])]\n",
    "df.loc['NMI (std)'] = [np.std(nmis_L2_ORL[0]), np.std(nmis_L2_ORL[1]), np.std(nmis_L2_ORL[2]), np.std(nmis_L21_ORL[0]), np.std(nmis_L21_ORL[1]), np.std(nmis_L21_ORL[2])]\n",
    "\n",
    "# Save the dataframe into csv file\n",
    "df.to_csv('data_ORL.csv') \n",
    "\n",
    "df"
   ]
  },
  {
   "cell_type": "code",
   "execution_count": null,
   "id": "71e336c9",
   "metadata": {
    "id": "71e336c9",
    "outputId": "1dec89ce-dde2-425e-fc28-d8bc2de2d1dc"
   },
   "outputs": [
    {
     "name": "stdout",
     "output_type": "stream",
     "text": [
      "==> ORL dataset reconstruction visualization\n"
     ]
    },
    {
     "data": {
      "image/png": "[encoded data removed]",
      "text/plain": [
       "<Figure size 864x864 with 9 Axes>"
      ]
     },
     "metadata": {
      "needs_background": "light"
     },
     "output_type": "display_data"
    }
   ],
   "source": [
    "# Visualization for ORL dataset reconstruction\n",
    "\n",
    "# Choose an arbitary example from the ORL dataset\n",
    "sample_ID = 1\n",
    "# Original\n",
    "sample_ORL = X_ORL[:, sample_ID].reshape((1, -1))\n",
    "# With random additional noise\n",
    "sample_ORl_add = X_add_noise_ORL[:, sample_ID].reshape((1, -1))\n",
    "# With block noise\n",
    "sample_ORl_bc = X_bc_noise_ORL[:, sample_ID].reshape((1, -1))\n",
    "\n",
    "# Reconstruction by Frobenius norm NMF\n",
    "D_L2, R_L2, _ = mf_multiplicative_update_L2(X = sample_ORL, k = opt_k_ORL, max_steps = 5000, random_state = False)\n",
    "D_add_L2, R_add_L2, _ = mf_multiplicative_update_L2(X = sample_ORl_add, k = opt_k_ORL, max_steps = 5000, random_state = False)\n",
    "D_bc_L2, R_bc_L2, _ = mf_multiplicative_update_L2(X = sample_ORl_bc, k = opt_k_ORL, max_steps = 5000, random_state = False)\n",
    "\n",
    "re_X = D_L2.dot(R_L2)\n",
    "re_add_X = D_add_L2.dot(R_add_L2)\n",
    "re_bc_X = D_bc_L2.dot(R_bc_L2)\n",
    "\n",
    "# Reconstruction by L_{2, 1} norm NMF\n",
    "D_L21, R_L21, _ = mf_multiplicative_update_L21(X = sample_ORL, k = opt_k_ORL, max_steps = 5000, random_state = False)\n",
    "D_add_L21, R_add_L21, _ = mf_multiplicative_update_L21(X = sample_ORl_add, k = opt_k_ORL, max_steps = 5000, random_state = False)\n",
    "D_bc_L21, R_bc_L21, _ = mf_multiplicative_update_L21(X = sample_ORl_bc, k = opt_k_ORL, max_steps = 5000, random_state = False)\n",
    "\n",
    "re_L21_X = D_L21.dot(R_L21)\n",
    "re_add_L21_X = D_add_L21.dot(R_add_L21)\n",
    "re_bc_L21_X = D_bc_L21.dot(R_bc_L21)\n",
    "\n",
    "# Visualize the reconstruction results\n",
    "print('==> ORL dataset reconstruction visualization')\n",
    "img_size = [30, 37] # ORL (30, 37)\n",
    "plt.figure(figsize=(12,12))\n",
    "plt.subplot(331)\n",
    "plt.imshow(sample_ORL.reshape(img_size[1],img_size[0]), cmap=plt.cm.gray)\n",
    "plt.title('Image(Original)')\n",
    "plt.subplot(332)\n",
    "plt.imshow(re_X.reshape(img_size[1],img_size[0]), cmap=plt.cm.gray)\n",
    "plt.title('Reconstructed Image (Frobenius)')\n",
    "plt.subplot(333)\n",
    "plt.imshow(re_L21_X.reshape(img_size[1],img_size[0]), cmap=plt.cm.gray)\n",
    "plt.title('Reconstructed Image (L_{2, 1})')\n",
    "\n",
    "plt.subplot(334)\n",
    "plt.imshow(sample_ORl_add.reshape(img_size[1],img_size[0]), cmap=plt.cm.gray)\n",
    "plt.title('Image(Add Noise)')\n",
    "plt.subplot(335)\n",
    "plt.imshow(re_add_X.reshape(img_size[1],img_size[0]), cmap=plt.cm.gray)\n",
    "plt.title('Reconstructed Image (Frobenius)')\n",
    "plt.subplot(336)\n",
    "plt.imshow(re_add_L21_X.reshape(img_size[1],img_size[0]), cmap=plt.cm.gray)\n",
    "plt.title('Reconstructed Image (L_{2, 1})')\n",
    "\n",
    "plt.subplot(337)\n",
    "plt.imshow(sample_ORl_bc.reshape(img_size[1],img_size[0]), cmap=plt.cm.gray)\n",
    "plt.title('Image(Block Noise)')\n",
    "plt.subplot(338)\n",
    "plt.imshow(re_bc_X.reshape(img_size[1],img_size[0]), cmap=plt.cm.gray)\n",
    "plt.title('Reconstructed Image (Frobenius)')\n",
    "plt.subplot(339)\n",
    "plt.imshow(re_bc_L21_X.reshape(img_size[1],img_size[0]), cmap=plt.cm.gray)\n",
    "plt.title('Reconstructed Image (L_{2, 1})')\n",
    "\n",
    "# Save the figure\n",
    "plt.savefig('reconstruct_ORL.pdf')\n",
    "plt.show()"
   ]
  },
  {
   "cell_type": "markdown",
   "id": "67a229f6",
   "metadata": {
    "id": "67a229f6"
   },
   "source": [
    "#### 3.3.2 YaleB dataset"
   ]
  },
  {
   "cell_type": "code",
   "execution_count": null,
   "id": "d3f4fc0e",
   "metadata": {
    "id": "d3f4fc0e",
    "outputId": "1bf669f9-f06e-4c8d-b3aa-bff02092ab68"
   },
   "outputs": [
    {
     "name": "stdout",
     "output_type": "stream",
     "text": [
      "==> Start evaluation NMF(Frobenius norm) ...\n",
      "i = 10 out of 100 has been done.\n",
      "i = 20 out of 100 has been done.\n",
      "i = 30 out of 100 has been done.\n",
      "i = 40 out of 100 has been done.\n",
      "i = 50 out of 100 has been done.\n",
      "i = 60 out of 100 has been done.\n",
      "i = 70 out of 100 has been done.\n",
      "i = 80 out of 100 has been done.\n",
      "i = 90 out of 100 has been done.\n",
      "i = 100 out of 100 has been done.\n"
     ]
    }
   ],
   "source": [
    "# Repeat the previous process when applying to the YaleB dataset\n",
    "\n",
    "print('==> Start evaluation NMF(Frobenius norm) ...')\n",
    "RRE_list_YaleB_L2 = []\n",
    "RRE_add_list_YaleB_L2 = []\n",
    "RRE_bc_list_YaleB_L2 = []\n",
    "\n",
    "acc_list_YaleB_L2 = []\n",
    "acc_add_list_YaleB_L2 = []\n",
    "acc_bc_list_YaleB_L2 = []\n",
    "\n",
    "nmi_list_YaleB_L2 = []\n",
    "nmi_add_list_YaleB_L2 = []\n",
    "nmi_bc_list_YaleB_L2 = []\n",
    "\n",
    "for i in range(1, 101):\n",
    "#==========================================================================================================================================\n",
    "    # Without noise\n",
    "    D_YaleB, R_YaleB, step = mf_multiplicative_update_L2(X = X_YaleB, k = opt_k_YaleB, max_steps = 5000, random_state = False)\n",
    "    RRE = np.linalg.norm(X_YaleB - D_YaleB.dot(R_YaleB)) / np.linalg.norm(X_YaleB)\n",
    "    RRE_list_YaleB_L2.append(RRE)\n",
    "    \n",
    "    # # Assign cluster labels.\n",
    "    Y_pred = assign_cluster_label(R_YaleB.T, Y_YaleB)\n",
    "    acc = accuracy_score(Y_YaleB, Y_pred)\n",
    "    acc_list_YaleB_L2.append(acc)\n",
    "    nmi = normalized_mutual_info_score(Y_YaleB, Y_pred)\n",
    "    nmi_list_YaleB_L2.append(nmi)\n",
    "\n",
    "#==========================================================================================================================================\n",
    "    # With random addition noise\n",
    "    D_add_YaleB, R_add_YaleB, step = mf_multiplicative_update_L2(X = X_add_noise_YaleB, k = opt_k_YaleB, max_steps = 5000, random_state = False)\n",
    "    RRE_add = np.linalg.norm(X_YaleB - D_add_YaleB.dot(R_add_YaleB)) / np.linalg.norm(X_YaleB)\n",
    "    RRE_add_list_YaleB_L2.append(RRE_add)\n",
    "\n",
    "    # # Assign cluster labels.\n",
    "    Y_pred_add = assign_cluster_label(R_add_YaleB.T, Y_YaleB)\n",
    "    acc_add = accuracy_score(Y_YaleB, Y_pred_add)\n",
    "    acc_add_list_YaleB_L2.append(acc_add)\n",
    "    nmi_add = normalized_mutual_info_score(Y_YaleB, Y_pred_add)\n",
    "    nmi_add_list_YaleB_L2.append(nmi_add)\n",
    "\n",
    "#==========================================================================================================================================\n",
    "    # With block-occulusion noise\n",
    "    D_bc_YaleB, R_bc_YaleB, step = mf_multiplicative_update_L2(X = X_bc_noise_YaleB, k = opt_k_YaleB, max_steps = 5000, random_state = False)\n",
    "    RRE_bc = np.linalg.norm(X_YaleB - D_bc_YaleB.dot(R_bc_YaleB)) / np.linalg.norm(X_YaleB)\n",
    "    RRE_bc_list_YaleB_L2.append(RRE_bc)\n",
    "\n",
    "    # # Assign cluster labels.\n",
    "    Y_pred_bc = assign_cluster_label(R_bc_YaleB.T, Y_YaleB)\n",
    "    acc_bc = accuracy_score(Y_YaleB, Y_pred_bc)\n",
    "    acc_bc_list_YaleB_L2.append(acc_bc)\n",
    "    nmi_bc = normalized_mutual_info_score(Y_YaleB, Y_pred_bc)\n",
    "    nmi_bc_list_YaleB_L2.append(nmi_bc)\n",
    "\n",
    "#==========================================================================================================================================\n",
    "    if i%10 == 0:\n",
    "        print('i = {} out of 100 has been done.'.format(i))"
   ]
  },
  {
   "cell_type": "code",
   "execution_count": null,
   "id": "9c0d7ad1",
   "metadata": {
    "id": "9c0d7ad1"
   },
   "outputs": [],
   "source": [
    "# Save all the results for NMF(Frobenius norm)\n",
    "\n",
    "RREs = np.array([RRE_list_YaleB_L2, RRE_add_list_YaleB_L2, RRE_bc_list_YaleB_L2])\n",
    "accs = np.array([acc_list_YaleB_L2, acc_add_list_YaleB_L2, acc_bc_list_YaleB_L2])\n",
    "nmis = np.array([nmi_list_YaleB_L2, nmi_add_list_YaleB_L2, nmi_bc_list_YaleB_L2])\n",
    "\n",
    "with open('RREs_L2_YaleB.npy', 'wb') as f:\n",
    "    np.save(f, RREs)\n",
    "\n",
    "with open('accs_L2_YaleB.npy', 'wb') as f:\n",
    "    np.save(f, accs)\n",
    "\n",
    "with open('nmis_L2_YaleB.npy', 'wb') as f:\n",
    "    np.save(f, nmis)"
   ]
  },
  {
   "cell_type": "code",
   "execution_count": null,
   "id": "32fed9fe",
   "metadata": {
    "id": "32fed9fe",
    "outputId": "ebe3d23e-3a39-42c2-d57f-186e9c014386"
   },
   "outputs": [
    {
     "name": "stdout",
     "output_type": "stream",
     "text": [
      "==> Start evaluation NMF(L_{2, 1} norm) ...\n",
      "i = 10 out of 100 has been done.\n",
      "i = 20 out of 100 has been done.\n",
      "i = 30 out of 100 has been done.\n",
      "i = 40 out of 100 has been done.\n",
      "i = 50 out of 100 has been done.\n",
      "i = 60 out of 100 has been done.\n",
      "i = 70 out of 100 has been done.\n",
      "i = 80 out of 100 has been done.\n",
      "i = 90 out of 100 has been done.\n",
      "i = 100 out of 100 has been done.\n"
     ]
    }
   ],
   "source": [
    "# Repeat the previous process when applying to the YaleB dataset\n",
    "\n",
    "print('==> Start evaluation NMF(L_{2, 1} norm) ...')\n",
    "RRE_list_YaleB_L21 = []\n",
    "RRE_add_list_YaleB_L21 = []\n",
    "RRE_bc_list_YaleB_L21 = []\n",
    "\n",
    "acc_list_YaleB_L21 = []\n",
    "acc_add_list_YaleB_L21 = []\n",
    "acc_bc_list_YaleB_L21 = []\n",
    "\n",
    "nmi_list_YaleB_L21 = []\n",
    "nmi_add_list_YaleB_L21 = []\n",
    "nmi_bc_list_YaleB_L21 = []\n",
    "\n",
    "for i in range(1, 101):\n",
    "#==========================================================================================================================================\n",
    "    # Without noise\n",
    "    D_YaleB, R_YaleB, step = mf_multiplicative_update_L21(X = X_YaleB, k = opt_k_YaleB, max_steps = 5000, random_state = False)\n",
    "    RRE = np.linalg.norm(X_YaleB - D_YaleB.dot(R_YaleB)) / np.linalg.norm(X_YaleB)\n",
    "    RRE_list_YaleB_L21.append(RRE)\n",
    "    \n",
    "    # # Assign cluster labels.\n",
    "    Y_pred = assign_cluster_label(R_YaleB.T, Y_YaleB)\n",
    "    acc = accuracy_score(Y_YaleB, Y_pred)\n",
    "    acc_list_YaleB_L21.append(acc)\n",
    "    nmi = normalized_mutual_info_score(Y_YaleB, Y_pred)\n",
    "    nmi_list_YaleB_L21.append(nmi)\n",
    "\n",
    "#==========================================================================================================================================\n",
    "    # With random addition noise\n",
    "    D_add_YaleB, R_add_YaleB, step = mf_multiplicative_update_L21(X = X_add_noise_YaleB, k = opt_k_YaleB, max_steps = 5000, random_state = False)\n",
    "    RRE_add = np.linalg.norm(X_YaleB - D_add_YaleB.dot(R_add_YaleB)) / np.linalg.norm(X_YaleB)\n",
    "    RRE_add_list_YaleB_L21.append(RRE_add)\n",
    "\n",
    "    # # Assign cluster labels.\n",
    "    Y_pred_add = assign_cluster_label(R_add_YaleB.T, Y_YaleB)\n",
    "    acc_add = accuracy_score(Y_YaleB, Y_pred_add)\n",
    "    acc_add_list_YaleB_L21.append(acc_add)\n",
    "    nmi_add = normalized_mutual_info_score(Y_YaleB, Y_pred_add)\n",
    "    nmi_add_list_YaleB_L21.append(nmi_add)\n",
    "\n",
    "#==========================================================================================================================================\n",
    "    # With block-occulusion noise\n",
    "    D_bc_YaleB, R_bc_YaleB, step = mf_multiplicative_update_L21(X = X_bc_noise_YaleB, k = opt_k_YaleB, max_steps = 5000, random_state = False)\n",
    "    RRE_bc = np.linalg.norm(X_YaleB - D_bc_YaleB.dot(R_bc_YaleB)) / np.linalg.norm(X_YaleB)\n",
    "    RRE_bc_list_YaleB_L21.append(RRE_bc)\n",
    "\n",
    "    # # Assign cluster labels.\n",
    "    Y_pred_bc = assign_cluster_label(R_bc_YaleB.T, Y_YaleB)\n",
    "    acc_bc = accuracy_score(Y_YaleB, Y_pred_bc)\n",
    "    acc_bc_list_YaleB_L21.append(acc_bc)\n",
    "    nmi_bc = normalized_mutual_info_score(Y_YaleB, Y_pred_bc)\n",
    "    nmi_bc_list_YaleB_L21.append(nmi_bc)\n",
    "\n",
    "#==========================================================================================================================================\n",
    "    if i%10 == 0:\n",
    "        print('i = {} out of 100 has been done.'.format(i))"
   ]
  },
  {
   "cell_type": "code",
   "execution_count": null,
   "id": "3fd652ae",
   "metadata": {
    "id": "3fd652ae"
   },
   "outputs": [],
   "source": [
    "# Save all the results for NMF(L_{2, 1} norm)\n",
    "\n",
    "RREs = np.array([RRE_list_YaleB_L21, RRE_add_list_YaleB_L21, RRE_bc_list_YaleB_L21])\n",
    "accs = np.array([acc_list_YaleB_L21, acc_add_list_YaleB_L21, acc_bc_list_YaleB_L21])\n",
    "nmis = np.array([nmi_list_YaleB_L21, nmi_add_list_YaleB_L21, nmi_bc_list_YaleB_L21])\n",
    "\n",
    "with open('RREs_L21_YaleB.npy', 'wb') as f:\n",
    "    np.save(f, RREs)\n",
    "\n",
    "with open('accs_L21_YaleB.npy', 'wb') as f:\n",
    "    np.save(f, accs)\n",
    "\n",
    "with open('nmis_L21_YaleB.npy', 'wb') as f:\n",
    "    np.save(f, nmis)"
   ]
  },
  {
   "cell_type": "code",
   "execution_count": null,
   "id": "a42ca497",
   "metadata": {
    "id": "a42ca497"
   },
   "outputs": [],
   "source": [
    "# Load the data stored\n",
    "\n",
    "with open('RREs_L2_YaleB.npy', 'rb') as f:\n",
    "    RREs_L2_YaleB = np.load(f, allow_pickle=True)\n",
    "\n",
    "with open('accs_L2_YaleB.npy', 'rb') as f:\n",
    "    accs_L2_YaleB = np.load(f, allow_pickle=True)\n",
    "\n",
    "with open('nmis_L2_YaleB.npy', 'rb') as f:\n",
    "    nmis_L2_YaleB = np.load(f, allow_pickle=True)\n",
    "\n",
    "with open('RREs_L21_YaleB.npy', 'rb') as f:\n",
    "    RREs_L21_YaleB = np.load(f, allow_pickle=True)\n",
    "\n",
    "with open('accs_L21_YaleB.npy', 'rb') as f:\n",
    "    accs_L21_YaleB = np.load(f, allow_pickle=True)\n",
    "\n",
    "with open('nmis_L21_YaleB.npy', 'rb') as f:\n",
    "    nmis_L21_YaleB = np.load(f, allow_pickle=True)"
   ]
  },
  {
   "cell_type": "code",
   "execution_count": null,
   "id": "019b17c7",
   "metadata": {
    "id": "019b17c7",
    "outputId": "243abda7-a025-41b2-bd95-e5d5e29feb02"
   },
   "outputs": [
    {
     "data": {
      "text/html": [
       "<div>\n",
       "<style scoped>\n",
       "    .dataframe tbody tr th:only-of-type {\n",
       "        vertical-align: middle;\n",
       "    }\n",
       "\n",
       "    .dataframe tbody tr th {\n",
       "        vertical-align: top;\n",
       "    }\n",
       "\n",
       "    .dataframe thead th {\n",
       "        text-align: right;\n",
       "    }\n",
       "</style>\n",
       "<table border=\"1\" class=\"dataframe\">\n",
       "  <thead>\n",
       "    <tr style=\"text-align: right;\">\n",
       "      <th></th>\n",
       "      <th>YaleB(Original)-Frobenius</th>\n",
       "      <th>YaleB(Add Noise)-Frobenius</th>\n",
       "      <th>YaleB(Block Noise)-Frobenius</th>\n",
       "      <th>YaleB(Original)-L_{2, 1}</th>\n",
       "      <th>YaleB(Add Noise)-L_{2, 1}</th>\n",
       "      <th>YaleB(Block Noise)-L_{2, 1}</th>\n",
       "    </tr>\n",
       "  </thead>\n",
       "  <tbody>\n",
       "    <tr>\n",
       "      <th>RRE (mean)</th>\n",
       "      <td>0.19965</td>\n",
       "      <td>0.292304</td>\n",
       "      <td>0.446401</td>\n",
       "      <td>0.199696</td>\n",
       "      <td>0.292199</td>\n",
       "      <td>0.447427</td>\n",
       "    </tr>\n",
       "    <tr>\n",
       "      <th>RRE (std)</th>\n",
       "      <td>0.00041</td>\n",
       "      <td>0.000315</td>\n",
       "      <td>0.001413</td>\n",
       "      <td>0.00045</td>\n",
       "      <td>0.000359</td>\n",
       "      <td>0.001208</td>\n",
       "    </tr>\n",
       "    <tr>\n",
       "      <th>Accuracy (mean)</th>\n",
       "      <td>0.217013</td>\n",
       "      <td>0.220708</td>\n",
       "      <td>0.102034</td>\n",
       "      <td>0.211848</td>\n",
       "      <td>0.214138</td>\n",
       "      <td>0.095547</td>\n",
       "    </tr>\n",
       "    <tr>\n",
       "      <th>Accuracy (std)</th>\n",
       "      <td>0.009585</td>\n",
       "      <td>0.009299</td>\n",
       "      <td>0.005866</td>\n",
       "      <td>0.009644</td>\n",
       "      <td>0.010083</td>\n",
       "      <td>0.006674</td>\n",
       "    </tr>\n",
       "    <tr>\n",
       "      <th>NMI (mean)</th>\n",
       "      <td>0.296264</td>\n",
       "      <td>0.303627</td>\n",
       "      <td>0.113505</td>\n",
       "      <td>0.290026</td>\n",
       "      <td>0.296228</td>\n",
       "      <td>0.10003</td>\n",
       "    </tr>\n",
       "    <tr>\n",
       "      <th>NMI (std)</th>\n",
       "      <td>0.011722</td>\n",
       "      <td>0.013637</td>\n",
       "      <td>0.012436</td>\n",
       "      <td>0.014786</td>\n",
       "      <td>0.012837</td>\n",
       "      <td>0.012192</td>\n",
       "    </tr>\n",
       "  </tbody>\n",
       "</table>\n",
       "</div>"
      ],
      "text/plain": [
       "                YaleB(Original)-Frobenius YaleB(Add Noise)-Frobenius  \\\n",
       "RRE (mean)                        0.19965                   0.292304   \n",
       "RRE (std)                         0.00041                   0.000315   \n",
       "Accuracy (mean)                  0.217013                   0.220708   \n",
       "Accuracy (std)                   0.009585                   0.009299   \n",
       "NMI (mean)                       0.296264                   0.303627   \n",
       "NMI (std)                        0.011722                   0.013637   \n",
       "\n",
       "                YaleB(Block Noise)-Frobenius YaleB(Original)-L_{2, 1}  \\\n",
       "RRE (mean)                          0.446401                 0.199696   \n",
       "RRE (std)                           0.001413                  0.00045   \n",
       "Accuracy (mean)                     0.102034                 0.211848   \n",
       "Accuracy (std)                      0.005866                 0.009644   \n",
       "NMI (mean)                          0.113505                 0.290026   \n",
       "NMI (std)                           0.012436                 0.014786   \n",
       "\n",
       "                YaleB(Add Noise)-L_{2, 1} YaleB(Block Noise)-L_{2, 1}  \n",
       "RRE (mean)                       0.292199                    0.447427  \n",
       "RRE (std)                        0.000359                    0.001208  \n",
       "Accuracy (mean)                  0.214138                    0.095547  \n",
       "Accuracy (std)                   0.010083                    0.006674  \n",
       "NMI (mean)                       0.296228                     0.10003  \n",
       "NMI (std)                        0.012837                    0.012192  "
      ]
     },
     "execution_count": 109,
     "metadata": {},
     "output_type": "execute_result"
    }
   ],
   "source": [
    "# Generate a dataframe to visualize the data\n",
    "df = pd.DataFrame(columns=['YaleB(Original)-Frobenius', 'YaleB(Add Noise)-Frobenius', 'YaleB(Block Noise)-Frobenius', 'YaleB(Original)-L_{2, 1}', 'YaleB(Add Noise)-L_{2, 1}', 'YaleB(Block Noise)-L_{2, 1}'], index=['RRE (mean)', 'RRE (std)', 'Accuracy (mean)', 'Accuracy (std)', 'NMI (mean)', 'NMI (std)'])\n",
    "df.loc['RRE (mean)'] = [np.mean(RREs_L2_YaleB[0]), np.mean(RREs_L2_YaleB[1]), np.mean(RREs_L2_YaleB[2]), np.mean(RREs_L21_YaleB[0]), np.mean(RREs_L21_YaleB[1]), np.mean(RREs_L21_YaleB[2])]\n",
    "df.loc['RRE (std)'] = [np.std(RREs_L2_YaleB[0]), np.std(RREs_L2_YaleB[1]), np.std(RREs_L2_YaleB[2]), np.std(RREs_L21_YaleB[0]), np.std(RREs_L21_YaleB[1]), np.std(RREs_L21_YaleB[2])]\n",
    "\n",
    "df.loc['Accuracy (mean)'] = [np.mean(accs_L2_YaleB[0]), np.mean(accs_L2_YaleB[1]), np.mean(accs_L2_YaleB[2]), np.mean(accs_L21_YaleB[0]), np.mean(accs_L21_YaleB[1]), np.mean(accs_L21_YaleB[2])]\n",
    "df.loc['Accuracy (std)'] = [np.std(accs_L2_YaleB[0]), np.std(accs_L2_YaleB[1]), np.std(accs_L2_YaleB[2]), np.std(accs_L21_YaleB[0]), np.std(accs_L21_YaleB[1]), np.std(accs_L21_YaleB[2])]\n",
    "\n",
    "df.loc['NMI (mean)'] = [np.mean(nmis_L2_YaleB[0]), np.mean(nmis_L2_YaleB[1]), np.mean(nmis_L2_YaleB[2]), np.mean(nmis_L21_YaleB[0]), np.mean(nmis_L21_YaleB[1]), np.mean(nmis_L21_YaleB[2])]\n",
    "df.loc['NMI (std)'] = [np.std(nmis_L2_YaleB[0]), np.std(nmis_L2_YaleB[1]), np.std(nmis_L2_YaleB[2]), np.std(nmis_L21_YaleB[0]), np.std(nmis_L21_YaleB[1]), np.std(nmis_L21_YaleB[2])]\n",
    "\n",
    "# Save the dataframe into a csv file\n",
    "df.to_csv('data_YaleB.csv') \n",
    "df"
   ]
  },
  {
   "cell_type": "code",
   "execution_count": null,
   "id": "fb175978",
   "metadata": {
    "id": "fb175978",
    "outputId": "8aaaedd5-b827-420a-deaa-6ab9dcdac7cf"
   },
   "outputs": [
    {
     "name": "stdout",
     "output_type": "stream",
     "text": [
      "==> YaleB dataset reconstruction visualization\n"
     ]
    },
    {
     "data": {
      "image/png": "[encoded data removed]",
      "text/plain": [
       "<Figure size 864x864 with 9 Axes>"
      ]
     },
     "metadata": {
      "needs_background": "light"
     },
     "output_type": "display_data"
    }
   ],
   "source": [
    "# Visualization for YaleB dataset reconstruction\n",
    "\n",
    "# Choose an arbitary example from the ORL dataset\n",
    "sample_ID = 1\n",
    "# Original\n",
    "sample_YaleB = X_YaleB[:, sample_ID].reshape((1, -1))\n",
    "# With random additional noise\n",
    "sample_ORl_add = X_add_noise_YaleB[:, sample_ID].reshape((1, -1))\n",
    "# With random block noise\n",
    "sample_ORl_bc = X_bc_noise_YaleB[:, sample_ID].reshape((1, -1))\n",
    "\n",
    "# Reconstruction by Frobenius norm NMF\n",
    "D_L2, R_L2, _ = mf_multiplicative_update_L2(X = sample_YaleB, k = opt_k_YaleB, max_steps = 5000, random_state = False)\n",
    "D_add_L2, R_add_L2, _ = mf_multiplicative_update_L2(X = sample_ORl_add, k = opt_k_YaleB, max_steps = 5000, random_state = False)\n",
    "D_bc_L2, R_bc_L2, _ = mf_multiplicative_update_L2(X = sample_ORl_bc, k = opt_k_YaleB, max_steps = 5000, random_state = False)\n",
    "\n",
    "re_X = D_L2.dot(R_L2)\n",
    "re_add_X = D_add_L2.dot(R_add_L2)\n",
    "re_bc_X = D_bc_L2.dot(R_bc_L2)\n",
    "\n",
    "# Reconstruction by L_{2, 1} norm NMF\n",
    "D_L21, R_L21, _ = mf_multiplicative_update_L21(X = sample_YaleB, k = opt_k_YaleB, max_steps = 5000, random_state = False)\n",
    "D_add_L21, R_add_L21, _ = mf_multiplicative_update_L21(X = sample_ORl_add, k = opt_k_YaleB, max_steps = 5000, random_state = False)\n",
    "D_bc_L21, R_bc_L21, _ = mf_multiplicative_update_L21(X = sample_ORl_bc, k = opt_k_YaleB, max_steps = 5000, random_state = False)\n",
    "\n",
    "re_L21_X = D_L21.dot(R_L21)\n",
    "re_add_L21_X = D_add_L21.dot(R_add_L21)\n",
    "re_bc_L21_X = D_bc_L21.dot(R_bc_L21)\n",
    "\n",
    "# Visualize the reconstructed images\n",
    "print('==> YaleB dataset reconstruction visualization')\n",
    "img_size = [42, 48] # YaleB (42, 48)\n",
    "plt.figure(figsize=(12,12))\n",
    "plt.subplot(331)\n",
    "plt.imshow(sample_YaleB.reshape(img_size[1],img_size[0]), cmap=plt.cm.gray)\n",
    "plt.title('Image(Original)')\n",
    "plt.subplot(332)\n",
    "plt.imshow(re_X.reshape(img_size[1],img_size[0]), cmap=plt.cm.gray)\n",
    "plt.title('Reconstructed Image (Frobenius)')\n",
    "plt.subplot(333)\n",
    "plt.imshow(re_L21_X.reshape(img_size[1],img_size[0]), cmap=plt.cm.gray)\n",
    "plt.title('Reconstructed Image (L_{2, 1})')\n",
    "\n",
    "plt.subplot(334)\n",
    "plt.imshow(sample_ORl_add.reshape(img_size[1],img_size[0]), cmap=plt.cm.gray)\n",
    "plt.title('Image(Add Noise)')\n",
    "plt.subplot(335)\n",
    "plt.imshow(re_add_X.reshape(img_size[1],img_size[0]), cmap=plt.cm.gray)\n",
    "plt.title('Reconstructed Image (Frobenius)')\n",
    "plt.subplot(336)\n",
    "plt.imshow(re_add_L21_X.reshape(img_size[1],img_size[0]), cmap=plt.cm.gray)\n",
    "plt.title('Reconstructed Image (L_{2, 1})')\n",
    "\n",
    "plt.subplot(337)\n",
    "plt.imshow(sample_ORl_bc.reshape(img_size[1],img_size[0]), cmap=plt.cm.gray)\n",
    "plt.title('Image(Block Noise)')\n",
    "plt.subplot(338)\n",
    "plt.imshow(re_bc_X.reshape(img_size[1],img_size[0]), cmap=plt.cm.gray)\n",
    "plt.title('Reconstructed Image (Frobenius)')\n",
    "plt.subplot(339)\n",
    "plt.imshow(re_bc_L21_X.reshape(img_size[1],img_size[0]), cmap=plt.cm.gray)\n",
    "plt.title('Reconstructed Image (L_{2, 1})')\n",
    "\n",
    "# Save the figure\n",
    "plt.savefig('reconstruct_YaleB.pdf')\n",
    "plt.show()\n"
   ]
  }
 ],
 "metadata": {
  "colab": {
   "provenance": []
  },
  "kernelspec": {
   "display_name": "Python 3 (ipykernel)",
   "language": "python",
   "name": "python3"
  },
  "language_info": {
   "codemirror_mode": {
    "name": "ipython",
    "version": 3
   },
   "file_extension": ".py",
   "mimetype": "text/x-python",
   "name": "python",
   "nbconvert_exporter": "python",
   "pygments_lexer": "ipython3",
   "version": "3.9.7"
  },
  "toc": {
   "base_numbering": 1,
   "nav_menu": {},
   "number_sections": false,
   "sideBar": true,
   "skip_h1_title": false,
   "title_cell": "Table of Contents",
   "title_sidebar": "Contents",
   "toc_cell": false,
   "toc_position": {
    "height": "calc(100% - 180px)",
    "left": "10px",
    "top": "150px",
    "width": "307.2px"
   },
   "toc_section_display": true,
   "toc_window_display": true
  },
  "vscode": {
   "interpreter": {
    "hash": "0814ccf4d854647ca2b3a3d8eac83034772b1e2507561d194f7f619ef0b1500f"
   }
  }
 },
 "nbformat": 4,
 "nbformat_minor": 5
}
